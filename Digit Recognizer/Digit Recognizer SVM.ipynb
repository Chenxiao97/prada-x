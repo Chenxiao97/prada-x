{
 "cells": [
  {
   "cell_type": "markdown",
   "metadata": {},
   "source": [
    "This notebook implements a Support Vector Machine (SVM) algorithm for the Digit Recognizer Kaggle competition found here: https://www.kaggle.com/c/digit-recognizer\n",
    "\n",
    "Notebook by Jonathan Gomez Martinez"
   ]
  },
  {
   "cell_type": "markdown",
   "metadata": {
    "deletable": true,
    "editable": true
   },
   "source": [
    "The beginning of this notebook was heavily guided by Charlie H.'s kernel found here https://www.kaggle.com/archaeocharlie/digit-recognizer/a-beginner-s-approach-to-classification/notebook"
   ]
  },
  {
   "cell_type": "raw",
   "metadata": {},
   "source": [
    "Here we import the libraries neccessary for our project"
   ]
  },
  {
   "cell_type": "code",
   "execution_count": 1,
   "metadata": {
    "collapsed": false,
    "deletable": true,
    "editable": true
   },
   "outputs": [],
   "source": [
    "import pandas as pd\n",
    "import numpy as np\n",
    "import matplotlib.pyplot as plt, matplotlib.image as mpimg\n",
    "from sklearn import svm\n",
    "from sklearn import tree\n",
    "from sklearn.metrics import confusion_matrix\n",
    "%matplotlib inline"
   ]
  },
  {
   "cell_type": "markdown",
   "metadata": {},
   "source": [
    "First step in training is to get the data ready. We import the data, provided as a csv on Kaggle."
   ]
  },
  {
   "cell_type": "code",
   "execution_count": 2,
   "metadata": {
    "collapsed": false,
    "deletable": true,
    "editable": true
   },
   "outputs": [
    {
     "name": "stdout",
     "output_type": "stream",
     "text": [
      "We have 42000 digits, we will need to break these into training and testing sets\n"
     ]
    }
   ],
   "source": [
    "raw = pd.read_csv(\"train.csv\")\n",
    "#raw = raw.iloc[:10000,] #Remove the '#' at the beginning of the line to only use a subset of the data\n",
    "length = len(raw)\n",
    "print(\"We have\", length, \"digits, we will need to break these into training and testing sets\")"
   ]
  },
  {
   "cell_type": "markdown",
   "metadata": {},
   "source": [
    "For testing purposes, we need to seperate the data set into training and testing sets."
   ]
  },
  {
   "cell_type": "code",
   "execution_count": 3,
   "metadata": {
    "collapsed": false,
    "deletable": true,
    "editable": true
   },
   "outputs": [
    {
     "name": "stdout",
     "output_type": "stream",
     "text": [
      "Now we have 33600 training digits and 8400 testing digits\n"
     ]
    }
   ],
   "source": [
    "test=raw.sample(frac=0.2,random_state=5181) #We are creating an 80/20 split, the proportion can be changed by changing the number after  'frac='\n",
    "train=raw.drop(test.index)\n",
    "l1 = len(train)\n",
    "l2 = len(test)\n",
    "print(\"Now we have\", l1, \"training digits and\", l2, \"testing digits\")"
   ]
  },
  {
   "cell_type": "markdown",
   "metadata": {},
   "source": [
    "Next, we need to seperate the labels from the drawn digits so the algorithm will not \"know the answer\" without computing it"
   ]
  },
  {
   "cell_type": "code",
   "execution_count": 4,
   "metadata": {
    "collapsed": false,
    "deletable": true,
    "editable": true
   },
   "outputs": [],
   "source": [
    "train_x = train.iloc[0:,1:]\n",
    "train_y = train.iloc[0:,:1]\n",
    "test_x = test.iloc[0:,1:]\n",
    "test_y = test.iloc[0:,:1]"
   ]
  },
  {
   "cell_type": "markdown",
   "metadata": {},
   "source": [
    "For convenience and to get a better understanding, the below code shows what the digits look like when restored from their flattened state."
   ]
  },
  {
   "cell_type": "code",
   "execution_count": 5,
   "metadata": {
    "collapsed": false,
    "deletable": true,
    "editable": true
   },
   "outputs": [
    {
     "data": {
      "image/png": "[encoded data removed]",
      "text/plain": [
       "<matplotlib.figure.Figure at 0x166cc53c908>"
      ]
     },
     "metadata": {},
     "output_type": "display_data"
    }
   ],
   "source": [
    "def showNum(row, x, y):\n",
    "    i=row\n",
    "    draw = x.iloc[i].as_matrix()\n",
    "    a = draw.reshape((28,28))\n",
    "    imgplot = plt.imshow(a)\n",
    "    plt.title(y.iloc[i])\n",
    "    \n",
    "showNum(27, test_x, test_y)"
   ]
  },
  {
   "cell_type": "markdown",
   "metadata": {},
   "source": [
    "Now we will build a simple SVM classifier using sklearn"
   ]
  },
  {
   "cell_type": "code",
   "execution_count": 6,
   "metadata": {
    "collapsed": false,
    "deletable": true,
    "editable": true
   },
   "outputs": [
    {
     "data": {
      "text/plain": [
       "0.11119047619047619"
      ]
     },
     "execution_count": 6,
     "metadata": {},
     "output_type": "execute_result"
    }
   ],
   "source": [
    "clf = svm.SVC()\n",
    "clf.fit(train_x, np.ravel(train_y))\n",
    "clf.score(test_x, test_y)"
   ]
  },
  {
   "cell_type": "markdown",
   "metadata": {},
   "source": [
    "The classifier is sitting at about 10% accuracy. That's chance level. Printing the predictions shows that the algorithm is in fact simply guessing the same digit repeatedly."
   ]
  },
  {
   "cell_type": "code",
   "execution_count": 7,
   "metadata": {
    "collapsed": false,
    "deletable": true,
    "editable": true
   },
   "outputs": [
    {
     "data": {
      "text/plain": [
       "array([1, 1, 1, ..., 1, 1, 1], dtype=int64)"
      ]
     },
     "execution_count": 7,
     "metadata": {},
     "output_type": "execute_result"
    }
   ],
   "source": [
    "clf.predict(test_x)"
   ]
  },
  {
   "cell_type": "markdown",
   "metadata": {},
   "source": [
    "Since the data is still relatively \"noisy\" and a number can be determined regardless of color intensity, setting all colored cells to 1 and leaving all the others as 0 should lead to cleaner results"
   ]
  },
  {
   "cell_type": "code",
   "execution_count": 8,
   "metadata": {
    "collapsed": false,
    "deletable": true,
    "editable": true
   },
   "outputs": [
    {
     "data": {
      "image/png": "[encoded data removed]",
      "text/plain": [
       "<matplotlib.figure.Figure at 0x166cb4961d0>"
      ]
     },
     "metadata": {},
     "output_type": "display_data"
    }
   ],
   "source": [
    "train_x[train_x>0]=1\n",
    "test_x[test_x>0]=1\n",
    "showNum(27, test_x, test_y)"
   ]
  },
  {
   "cell_type": "markdown",
   "metadata": {
    "deletable": true,
    "editable": true
   },
   "source": [
    "We will now retrain with the simplified images and find significantly better results"
   ]
  },
  {
   "cell_type": "code",
   "execution_count": 9,
   "metadata": {
    "collapsed": false,
    "deletable": true,
    "editable": true
   },
   "outputs": [
    {
     "data": {
      "text/plain": [
       "0.94273809523809526"
      ]
     },
     "execution_count": 9,
     "metadata": {},
     "output_type": "execute_result"
    }
   ],
   "source": [
    "clf2 = svm.SVC()\n",
    "clf2.fit(train_x, np.ravel(train_y))\n",
    "clf2.score(test_x, test_y)"
   ]
  },
  {
   "cell_type": "markdown",
   "metadata": {},
   "source": [
    "Since an SVM classifier looks at all attributes, regardless of actual value, removing attributes which carry no data could be useful."
   ]
  },
  {
   "cell_type": "code",
   "execution_count": 10,
   "metadata": {
    "collapsed": false,
    "deletable": true,
    "editable": true
   },
   "outputs": [
    {
     "name": "stdout",
     "output_type": "stream",
     "text": [
      "77 pixels carry no information\n"
     ]
    }
   ],
   "source": [
    "a = train_x.sum(axis=0)\n",
    "pixels = sum(train_x.sum(axis=0) == 0)\n",
    "#77 Pixels are carrying no information.\n",
    "print(pixels, \"pixels carry no information\")"
   ]
  },
  {
   "cell_type": "code",
   "execution_count": 11,
   "metadata": {
    "collapsed": false,
    "deletable": true,
    "editable": true
   },
   "outputs": [],
   "source": [
    "a = pd.DataFrame(a)\n",
    "a.columns = [\"Use\"]\n",
    "a = a[a.Use == 0]\n",
    "b = a.index.values\n",
    "train_x.drop(b, axis=1, inplace = True) #Drop all of the columns with no values\n",
    "test_x.drop(b, axis=1, inplace =True)"
   ]
  },
  {
   "cell_type": "markdown",
   "metadata": {},
   "source": [
    "Now we will train another SVM classifier with the simplified images and removed attributes"
   ]
  },
  {
   "cell_type": "code",
   "execution_count": 12,
   "metadata": {
    "collapsed": false,
    "deletable": true,
    "editable": true
   },
   "outputs": [
    {
     "data": {
      "text/plain": [
       "0.94416666666666671"
      ]
     },
     "execution_count": 12,
     "metadata": {},
     "output_type": "execute_result"
    }
   ],
   "source": [
    "clf3 = svm.SVC()\n",
    "clf3.fit(train_x, np.ravel(train_y))\n",
    "clf3.score(test_x, test_y)"
   ]
  },
  {
   "cell_type": "markdown",
   "metadata": {},
   "source": [
    "Slightly better, but tweaking some parameters may yield better results. Parameter explained well here: http://scikit-learn.org/stable/auto_examples/svm/plot_rbf_parameters.html#sphx-glr-auto-examples-svm-plot-rbf-parameters-py"
   ]
  },
  {
   "cell_type": "code",
   "execution_count": 13,
   "metadata": {
    "collapsed": false,
    "deletable": true,
    "editable": true
   },
   "outputs": [],
   "source": [
    "clf4 = svm.SVC( C = 1500)\n",
    "clf4.fit(train_x, np.ravel(train_y))\n",
    "clf4.score(test_x, test_y)\n",
    "pred_y = clf4.predict(test_x)"
   ]
  },
  {
   "cell_type": "markdown",
   "metadata": {},
   "source": [
    "Here we'll use the predictions to create a confusion matrix, telling us the predictions compared to the real labels on a heat map."
   ]
  },
  {
   "cell_type": "code",
   "execution_count": 14,
   "metadata": {
    "collapsed": false,
    "deletable": true,
    "editable": true
   },
   "outputs": [
    {
     "data": {
      "text/plain": [
       "array([[842,   0,   1,   1,   0,   2,   4,   0,   3,   1],\n",
       "       [  0, 928,   2,   1,   0,   0,   0,   1,   2,   0],\n",
       "       [  2,   3, 829,   8,   4,   1,   2,   3,   6,   3],\n",
       "       [  3,   2,   8, 817,   0,   4,   2,   6,   9,   8],\n",
       "       [  2,   1,   4,   0, 793,   0,   4,   5,   0,  16],\n",
       "       [  6,   1,   2,  11,   0, 705,   8,   0,   4,   0],\n",
       "       [  8,   2,   1,   0,   4,   6, 800,   0,   1,   0],\n",
       "       [  2,   2,   6,   3,   4,   0,   0, 824,   2,   7],\n",
       "       [  5,   6,   6,   8,   4,   6,   5,   3, 758,   3],\n",
       "       [  6,   1,   1,   5,  12,   2,   0,  12,   2, 813]])"
      ]
     },
     "execution_count": 14,
     "metadata": {},
     "output_type": "execute_result"
    },
    {
     "data": {
      "image/png": "[encoded data removed]",
      "text/plain": [
       "<matplotlib.figure.Figure at 0x166cb4cbba8>"
      ]
     },
     "metadata": {},
     "output_type": "display_data"
    }
   ],
   "source": [
    "matrix = confusion_matrix(test_y, pred_y)\n",
    "plt.imshow(matrix, interpolation='none', cmap = 'bwr')\n",
    "matrix"
   ]
  },
  {
   "cell_type": "markdown",
   "metadata": {},
   "source": [
    "In the confusion matrix above, the diagonal was too accurate and did not allow us to make much use of the rest of the graph. We will set the diagonal to zeros so we can better see the innaccurate results"
   ]
  },
  {
   "cell_type": "code",
   "execution_count": 15,
   "metadata": {
    "collapsed": false,
    "deletable": true,
    "editable": true
   },
   "outputs": [
    {
     "data": {
      "text/plain": [
       "array([[ 0,  0,  1,  1,  0,  2,  4,  0,  3,  1],\n",
       "       [ 0,  0,  2,  1,  0,  0,  0,  1,  2,  0],\n",
       "       [ 2,  3,  0,  8,  4,  1,  2,  3,  6,  3],\n",
       "       [ 3,  2,  8,  0,  0,  4,  2,  6,  9,  8],\n",
       "       [ 2,  1,  4,  0,  0,  0,  4,  5,  0, 16],\n",
       "       [ 6,  1,  2, 11,  0,  0,  8,  0,  4,  0],\n",
       "       [ 8,  2,  1,  0,  4,  6,  0,  0,  1,  0],\n",
       "       [ 2,  2,  6,  3,  4,  0,  0,  0,  2,  7],\n",
       "       [ 5,  6,  6,  8,  4,  6,  5,  3,  0,  3],\n",
       "       [ 6,  1,  1,  5, 12,  2,  0, 12,  2,  0]])"
      ]
     },
     "execution_count": 15,
     "metadata": {},
     "output_type": "execute_result"
    },
    {
     "data": {
      "image/png": "[encoded data removed]",
      "text/plain": [
       "<matplotlib.figure.Figure at 0x1668b5506a0>"
      ]
     },
     "metadata": {},
     "output_type": "display_data"
    }
   ],
   "source": [
    "for i in range(10):\n",
    "    matrix[i][i] = 0\n",
    "plt.imshow(matrix, interpolation='none', cmap = 'bwr')\n",
    "matrix"
   ]
  },
  {
   "cell_type": "markdown",
   "metadata": {},
   "source": [
    "The below code would be used to create a submission. Change cell type to run"
   ]
  },
  {
   "cell_type": "markdown",
   "metadata": {
    "collapsed": false,
    "deletable": true,
    "editable": true
   },
   "source": [
    "#Import and Clean Test Data\n",
    "test = pd.read_csv(\"test.csv\")\n",
    "test[test>0]=1\n",
    "test.drop(b, axis=1, inplace =True) #Drop all of the rows with no values in training"
   ]
  },
  {
   "cell_type": "markdown",
   "metadata": {
    "collapsed": false,
    "deletable": true,
    "editable": true
   },
   "source": [
    "c = clf4.predict(test)\n",
    "c"
   ]
  },
  {
   "cell_type": "markdown",
   "metadata": {
    "collapsed": false,
    "deletable": true,
    "editable": true
   },
   "source": [
    "c = pd.DataFrame(c)"
   ]
  },
  {
   "cell_type": "markdown",
   "metadata": {
    "collapsed": false,
    "deletable": true,
    "editable": true
   },
   "source": [
    "c.index.name='ImageId'\n",
    "c.index+=1\n",
    "c.columns=['Label']\n",
    "c.to_csv('results.csv', header=True)"
   ]
  }
 ],
 "metadata": {
  "anaconda-cloud": {},
  "kernelspec": {
   "display_name": "Python 3",
   "language": "python",
   "name": "python3"
  },
  "language_info": {
   "codemirror_mode": {
    "name": "ipython",
    "version": 3
   },
   "file_extension": ".py",
   "mimetype": "text/x-python",
   "name": "python",
   "nbconvert_exporter": "python",
   "pygments_lexer": "ipython3",
   "version": "3.5.3"
  }
 },
 "nbformat": 4,
 "nbformat_minor": 1
}
